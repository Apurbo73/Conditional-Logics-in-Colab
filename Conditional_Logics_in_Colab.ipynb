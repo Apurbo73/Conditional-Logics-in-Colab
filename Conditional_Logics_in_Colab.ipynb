{
  "nbformat": 4,
  "nbformat_minor": 0,
  "metadata": {
    "colab": {
      "provenance": [],
      "authorship_tag": "ABX9TyPhRY+3mlTG/OxVe90guNsA",
      "include_colab_link": true
    },
    "kernelspec": {
      "name": "python3",
      "display_name": "Python 3"
    },
    "language_info": {
      "name": "python"
    }
  },
  "cells": [
    {
      "cell_type": "markdown",
      "metadata": {
        "id": "view-in-github",
        "colab_type": "text"
      },
      "source": [
        "<a href=\"https://colab.research.google.com/github/Apurbo73/Conditional-Logics-in-Colab/blob/master/Conditional_Logics_in_Colab.ipynb\" target=\"_parent\"><img src=\"https://colab.research.google.com/assets/colab-badge.svg\" alt=\"Open In Colab\"/></a>"
      ]
    },
    {
      "cell_type": "code",
      "execution_count": null,
      "metadata": {
        "colab": {
          "base_uri": "https://localhost:8080/"
        },
        "id": "oCCWN5Re0l4I",
        "outputId": "9c6f6335-b39f-40ae-9e26-cf10e3e02b16"
      },
      "outputs": [
        {
          "output_type": "stream",
          "name": "stdout",
          "text": [
            "b is greater than a\n"
          ]
        }
      ],
      "source": [
        "a= 50\n",
        "b= 80\n",
        "if a>b:\n",
        "  print (\"a is greater than b\")\n",
        "else:\n",
        "    print (\"b is greater than a\")"
      ]
    }
  ]
}